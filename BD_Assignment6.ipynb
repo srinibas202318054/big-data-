{
  "nbformat": 4,
  "nbformat_minor": 0,
  "metadata": {
    "colab": {
      "provenance": []
    },
    "kernelspec": {
      "name": "python3",
      "display_name": "Python 3"
    },
    "language_info": {
      "name": "python"
    }
  },
  "cells": [
    {
      "cell_type": "markdown",
      "source": [
        "# Name: Srinibas Masanta\n",
        "# Roll Number: 202318054"
      ],
      "metadata": {
        "id": "QKAuVaHXwOZg"
      }
    },
    {
      "cell_type": "code",
      "execution_count": 7,
      "metadata": {
        "colab": {
          "base_uri": "https://localhost:8080/"
        },
        "id": "0lwmJIjGTh_J",
        "outputId": "f0ecbcdc-43c7-40cc-dc67-598d6fa3c9eb"
      },
      "outputs": [
        {
          "output_type": "stream",
          "name": "stdout",
          "text": [
            "Requirement already satisfied: pyspark in /usr/local/lib/python3.10/dist-packages (3.5.1)\n",
            "Requirement already satisfied: py4j==0.10.9.7 in /usr/local/lib/python3.10/dist-packages (from pyspark) (0.10.9.7)\n"
          ]
        }
      ],
      "source": [
        "pip install pyspark"
      ]
    },
    {
      "cell_type": "markdown",
      "source": [
        "#### • Perform K-means clustering and Hierarchical clustering upon the dataset fetch 20 newsgroups link using PySpark."
      ],
      "metadata": {
        "id": "sF36Su1qubzC"
      }
    },
    {
      "cell_type": "code",
      "source": [
        "from pyspark.sql import SparkSession\n",
        "from pyspark.ml.feature import HashingTF, IDF, Tokenizer\n",
        "from pyspark.ml.clustering import KMeans, BisectingKMeans\n",
        "from pyspark.ml import Pipeline\n",
        "import pandas as pd\n",
        "from sklearn.datasets import fetch_20newsgroups\n",
        "from nltk.tokenize import word_tokenize\n",
        "from nltk.corpus import stopwords\n",
        "from nltk.stem import PorterStemmer\n",
        "from sklearn.feature_extraction.text import TfidfVectorizer"
      ],
      "metadata": {
        "id": "Bb_Fi25bWupm"
      },
      "execution_count": 11,
      "outputs": []
    },
    {
      "cell_type": "code",
      "source": [
        "# Initialize SparkSession\n",
        "spark = SparkSession.builder \\\n",
        "    .appName(\"Clustering\") \\\n",
        "    .getOrCreate()\n",
        "\n",
        "# Fetch the 20 Newsgroups dataset\n",
        "newsgroups_data = fetch_20newsgroups(subset='all', remove=('headers', 'footers', 'quotes'))\n",
        "\n",
        "# Extract text data\n",
        "documents = newsgroups_data.data\n",
        "\n",
        "# Tokenization, stopword removal, and stemming\n",
        "import nltk\n",
        "nltk.download('stopwords')\n",
        "stop_words = set(stopwords.words('english'))\n",
        "stemmer = PorterStemmer()\n",
        "\n",
        "import nltk\n",
        "nltk.download('punkt')\n",
        "\n",
        "def preprocess_text(text):\n",
        "    tokens = word_tokenize(text.lower())\n",
        "    tokens = [word for word in tokens if word.isalpha() and word not in stop_words]\n",
        "    stemmed_tokens = [stemmer.stem(word) for word in tokens]\n",
        "    return \" \".join(stemmed_tokens)\n",
        "\n",
        "preprocessed_documents = [preprocess_text(doc) for doc in documents]\n",
        "\n",
        "# Create a DataFrame from the preprocessed documents\n",
        "documents_df = spark.createDataFrame(pd.DataFrame({'text': preprocessed_documents}))\n",
        "\n",
        "# Apply TF-IDF\n",
        "tokenizer = Tokenizer(inputCol=\"text\", outputCol=\"words\")\n",
        "hashingTF = HashingTF(inputCol=\"words\", outputCol=\"rawFeatures\", numFeatures=200)\n",
        "idf = IDF(inputCol=\"rawFeatures\", outputCol=\"features\")\n",
        "pipeline = Pipeline(stages=[tokenizer, hashingTF, idf])\n",
        "pipeline_model = pipeline.fit(documents_df)\n",
        "tfidf_data = pipeline_model.transform(documents_df)\n",
        "\n",
        "# Perform K-means clustering\n",
        "kmeans = KMeans(k=10, seed=1)\n",
        "model_kmeans = kmeans.fit(tfidf_data)\n",
        "predictions_kmeans = model_kmeans.transform(tfidf_data)\n",
        "\n",
        "# Perform Hierarchical clustering (Bisecting K-means)\n",
        "bkm = BisectingKMeans(k=10, seed=1)\n",
        "model_bkm = bkm.fit(tfidf_data)\n",
        "predictions_bkm = model_bkm.transform(tfidf_data)\n",
        "\n",
        "# Show the clustering results\n",
        "print(\"K-means clustering results:\")\n",
        "predictions_kmeans.select(\"text\", \"prediction\").show()\n",
        "\n",
        "print(\"Hierarchical clustering results:\")\n",
        "predictions_bkm.select(\"text\", \"prediction\").show()"
      ],
      "metadata": {
        "colab": {
          "base_uri": "https://localhost:8080/"
        },
        "id": "PP6BBQcsYuE5",
        "outputId": "730a0bb2-14ac-4eef-cf6a-63674bbe44e2"
      },
      "execution_count": 17,
      "outputs": [
        {
          "output_type": "stream",
          "name": "stderr",
          "text": [
            "[nltk_data] Downloading package stopwords to /root/nltk_data...\n",
            "[nltk_data]   Package stopwords is already up-to-date!\n",
            "[nltk_data] Downloading package punkt to /root/nltk_data...\n",
            "[nltk_data]   Package punkt is already up-to-date!\n"
          ]
        },
        {
          "output_type": "stream",
          "name": "stdout",
          "text": [
            "K-means clustering results:\n",
            "+--------------------+----------+\n",
            "|                text|prediction|\n",
            "+--------------------+----------+\n",
            "|sure basher pen f...|         0|\n",
            "|brother market vi...|         0|\n",
            "|final said dream ...|         0|\n",
            "|think scsi card d...|         0|\n",
            "|old jasmin drive ...|         0|\n",
            "|back high school ...|         0|\n",
            "|ae dalla tri tech...|         0|\n",
            "|stuff delet ok so...|         0|\n",
            "|yeah second one b...|         0|\n",
            "|christian mean so...|         0|\n",
            "|blood lamb hard t...|         0|\n",
            "|say histori untru...|         0|\n",
            "|thou wilt shall w...|         8|\n",
            "|kirlian imag beli...|         0|\n",
            "|notion heliocentr...|         0|\n",
            "|follow report eye...|         0|\n",
            "|mani thank repli ...|         0|\n",
            "|year ago almost b...|         0|\n",
            "|suprem court seem...|         0|\n",
            "|ed us argu gyrosc...|         0|\n",
            "+--------------------+----------+\n",
            "only showing top 20 rows\n",
            "\n",
            "Hierarchical clustering results:\n",
            "+--------------------+----------+\n",
            "|                text|prediction|\n",
            "+--------------------+----------+\n",
            "|sure basher pen f...|         1|\n",
            "|brother market vi...|         0|\n",
            "|final said dream ...|         1|\n",
            "|think scsi card d...|         1|\n",
            "|old jasmin drive ...|         1|\n",
            "|back high school ...|         0|\n",
            "|ae dalla tri tech...|         0|\n",
            "|stuff delet ok so...|         1|\n",
            "|yeah second one b...|         0|\n",
            "|christian mean so...|         0|\n",
            "|blood lamb hard t...|         0|\n",
            "|say histori untru...|         0|\n",
            "|thou wilt shall w...|         4|\n",
            "|kirlian imag beli...|         0|\n",
            "|notion heliocentr...|         0|\n",
            "|follow report eye...|         1|\n",
            "|mani thank repli ...|         0|\n",
            "|year ago almost b...|         0|\n",
            "|suprem court seem...|         3|\n",
            "|ed us argu gyrosc...|         1|\n",
            "+--------------------+----------+\n",
            "only showing top 20 rows\n",
            "\n"
          ]
        }
      ]
    },
    {
      "cell_type": "code",
      "source": [
        "from pyspark.ml.evaluation import ClusteringEvaluator\n",
        "\n",
        "# Evaluate clustering by computing Silhouette score\n",
        "evaluator = ClusteringEvaluator()\n",
        "\n",
        "# K-means silhouette score\n",
        "silhouette_kmeans = evaluator.evaluate(predictions_kmeans)\n",
        "print(f\"Silhouette Score for K-means: {silhouette_kmeans}\")\n",
        "\n",
        "# Hierarchical clustering silhouette score\n",
        "silhouette_bkm = evaluator.evaluate(predictions_bkm)\n",
        "print(f\"Silhouette Score for Hierarchical clustering: {silhouette_bkm}\")"
      ],
      "metadata": {
        "colab": {
          "base_uri": "https://localhost:8080/"
        },
        "id": "1QHaaDqfdo6f",
        "outputId": "1936ec55-275c-4d60-a331-088962ec2b27"
      },
      "execution_count": 22,
      "outputs": [
        {
          "output_type": "stream",
          "name": "stdout",
          "text": [
            "Silhouette Score for K-means: 0.9503406892025303\n",
            "Silhouette Score for Hierarchical clustering: 0.2709970734973112\n"
          ]
        }
      ]
    },
    {
      "cell_type": "markdown",
      "source": [
        "The silhouette score is a metric used to evaluate the quality of clusters in unsupervised learning. It provides measure of how similar an object is to its own cluster (cohesion) compared to other clusters (separation). The silhouette score ranges from -1 to 1, where:\n",
        "\n",
        "- A score close to +1 indicates that the object is well matched to its own cluster and poorly matched to neighboring clusters. This suggests that the object is distinctly clustered.\n",
        "- A score close to 0 indicates that the object is on or very close to the decision boundary between two neighboring clusters.\n",
        "- A score close to -1 indicates that the object is likely placed in the wrong cluster."
      ],
      "metadata": {
        "id": "t8xNKPTpeMHF"
      }
    },
    {
      "cell_type": "markdown",
      "source": [
        "#### • Represent each document using TfIdf matrix."
      ],
      "metadata": {
        "id": "9hxL_YUee-ft"
      }
    },
    {
      "cell_type": "code",
      "source": [
        "# Access the TF-IDF matrix\n",
        "tfidf_matrix = tfidf_data.select(\"features\").collect()\n",
        "\n",
        "# Show TF-IDF matrix for the first document\n",
        "print(tfidf_matrix[0])"
      ],
      "metadata": {
        "colab": {
          "base_uri": "https://localhost:8080/"
        },
        "id": "lf1AI_Yfbmhw",
        "outputId": "56e8af33-15ec-4abc-a89c-e30c7c9f090a"
      },
      "execution_count": 20,
      "outputs": [
        {
          "output_type": "stream",
          "name": "stdout",
          "text": [
            "Row(features=SparseVector(200, {1: 1.9146, 7: 1.593, 9: 1.7424, 10: 1.4611, 19: 1.3856, 21: 1.4595, 22: 1.5322, 41: 1.9089, 44: 1.9007, 46: 2.0113, 51: 2.728, 53: 2.8517, 55: 1.1685, 56: 1.5205, 67: 1.643, 71: 1.5715, 73: 1.594, 75: 3.8678, 77: 1.4247, 82: 4.9621, 96: 1.5718, 106: 1.9222, 108: 1.481, 114: 8.8116, 117: 1.9558, 118: 1.6029, 119: 4.3786, 120: 1.37, 124: 1.115, 134: 1.945, 143: 4.5544, 144: 2.764, 147: 1.2862, 149: 1.5744, 154: 1.4989, 157: 1.0564, 158: 2.2476, 169: 3.3281, 173: 1.1538, 175: 3.3053, 180: 3.7872, 186: 1.5531, 187: 1.5159, 189: 3.7371, 191: 1.4752, 192: 1.3663, 194: 1.6234, 195: 1.6348}))\n"
          ]
        }
      ]
    },
    {
      "cell_type": "markdown",
      "source": [
        "#### • For each of the K-means clustering techniques use K(number of clusters) as a hyperparameter and find the WCSS for each k-value. Find the optimal number of clusters using the elbow method."
      ],
      "metadata": {
        "id": "dzUz-WwzuusZ"
      }
    },
    {
      "cell_type": "code",
      "source": [
        "# List to store K values and their corresponding WCSS\n",
        "k_values = []\n",
        "wcss_values = []\n",
        "\n",
        "# Try different values of k\n",
        "for k in range(2, 11):  # Adjusted range to start from 2\n",
        "    kmeans = KMeans(k=k, seed=1)\n",
        "    model = kmeans.fit(tfidf_data)\n",
        "    wcss = model.summary.trainingCost\n",
        "    k_values.append(k)\n",
        "    wcss_values.append(wcss)\n",
        "\n",
        "# Print K values and their corresponding WCSS\n",
        "print(\"K Values\\tWCSS\")\n",
        "for k, wcss in zip(k_values, wcss_values):\n",
        "    print(f\"{k}\\t\\t{wcss}\")"
      ],
      "metadata": {
        "colab": {
          "base_uri": "https://localhost:8080/"
        },
        "id": "IGnNwDm0g04s",
        "outputId": "d9aec5d5-2dc0-4590-bbf8-f7ab6b7b7ce0"
      },
      "execution_count": 31,
      "outputs": [
        {
          "output_type": "stream",
          "name": "stdout",
          "text": [
            "K Values\tWCSS\n",
            "2\t\t50762697.25851829\n",
            "3\t\t38462740.23751265\n",
            "4\t\t37056763.419929296\n",
            "5\t\t36818691.4474009\n",
            "6\t\t26813025.38962821\n",
            "7\t\t25023439.605241165\n",
            "8\t\t24288481.350303248\n",
            "9\t\t22869368.931771483\n",
            "10\t\t21325140.33235629\n"
          ]
        }
      ]
    },
    {
      "cell_type": "markdown",
      "source": [
        "As the number of clusters (K) increases, the WCSS tends to decrease. This is expected because with more clusters, the data points can be grouped more closely together, leading to smaller within-cluster distances."
      ],
      "metadata": {
        "id": "YOHW5Y26n2Ln"
      }
    },
    {
      "cell_type": "code",
      "source": [
        "import matplotlib.pyplot as plt\n",
        "\n",
        "# List to store WCSS values for different k-values\n",
        "wcss_values = []\n",
        "\n",
        "# Try different values of k\n",
        "for k in range(2, 11):  # Adjusted range to start from 2\n",
        "    kmeans = KMeans(k=k, seed=1)\n",
        "    model = kmeans.fit(tfidf_data)\n",
        "    wcss = model.summary.trainingCost\n",
        "    wcss_values.append(wcss)\n",
        "\n",
        "# Plot the elbow curve\n",
        "plt.figure(figsize=(10, 5))\n",
        "plt.plot(range(2, 11), wcss_values, marker='o', linestyle='--')  # Adjusted range\n",
        "plt.title('Elbow Method for Optimal K')\n",
        "plt.xlabel('Number of Clusters (K)')\n",
        "plt.ylabel('WCSS')\n",
        "plt.xticks(range(2, 11))  # Adjusted range\n",
        "plt.grid(True)\n",
        "plt.show()"
      ],
      "metadata": {
        "colab": {
          "base_uri": "https://localhost:8080/",
          "height": 487
        },
        "id": "1uCdmCmciTIN",
        "outputId": "bf70b1c3-1598-43e1-bd5b-443caec73f0a"
      },
      "execution_count": 29,
      "outputs": [
        {
          "output_type": "display_data",
          "data": {
            "text/plain": [
              "<Figure size 1000x500 with 1 Axes>"
            ],
            "image/png": "[encoded data removed]"
          },
          "metadata": {}
        }
      ]
    },
    {
      "cell_type": "code",
      "source": [
        "# Find the optimal K value\n",
        "optimal_k = wcss_values.index(min(wcss_values)) + 2  # Add 2 to index to get the actual value of K\n",
        "print(\"Optimal K value:\", optimal_k)"
      ],
      "metadata": {
        "colab": {
          "base_uri": "https://localhost:8080/"
        },
        "id": "hZqvzb-ekAKT",
        "outputId": "0d027269-4f0e-46ce-ef21-43f91e0aa39d"
      },
      "execution_count": 32,
      "outputs": [
        {
          "output_type": "stream",
          "name": "stdout",
          "text": [
            "Optimal K value: 10\n"
          ]
        }
      ]
    },
    {
      "cell_type": "markdown",
      "source": [
        "#### • Apply Agglomerative clustering for clustering the documents and find the optimal number of clusters using dendrogram diagrams."
      ],
      "metadata": {
        "id": "IL5S2HQNu7s3"
      }
    },
    {
      "cell_type": "code",
      "source": [
        "from sklearn.cluster import AgglomerativeClustering\n",
        "import numpy as np\n",
        "import matplotlib.pyplot as plt\n",
        "from scipy.cluster.hierarchy import dendrogram\n",
        "from sklearn.decomposition import TruncatedSVD\n",
        "from sklearn.preprocessing import Normalizer\n",
        "from sklearn.pipeline import make_pipeline\n",
        "\n",
        "vectorizer = TfidfVectorizer(max_features=10000, min_df=5, max_df=0.7, stop_words='english')\n",
        "X = vectorizer.fit_transform(newsgroups.data)\n",
        "svd = TruncatedSVD(n_components=100)\n",
        "normalizer = Normalizer(copy=False)\n",
        "lsa = make_pipeline(svd, normalizer)\n",
        "X_reduced = lsa.fit_transform(X)\n",
        "\n",
        "# Apply Agglomerative clustering\n",
        "agglomerative_clustering = AgglomerativeClustering(distance_threshold=0, n_clusters=None, linkage='ward')\n",
        "model = agglomerative_clustering.fit(X_reduced)\n",
        "\n",
        "# Function to plot the dendrogram\n",
        "def plot_dendrogram(model, **kwargs):\n",
        "    # Create linkage matrix and then plot the dendrogram\n",
        "    counts = np.zeros(model.children_.shape[0])\n",
        "    n_samples = len(model.labels_)\n",
        "    for i, merge in enumerate(model.children_):\n",
        "        current_count = 0\n",
        "        for child_idx in merge:\n",
        "            if child_idx < n_samples:\n",
        "                current_count += 1  # leaf node\n",
        "            else:\n",
        "                current_count += counts[child_idx - n_samples]\n",
        "        counts[i] = current_count\n",
        "\n",
        "    linkage_matrix = np.column_stack([model.children_, model.distances_,\n",
        "                                      counts]).astype(float)\n",
        "\n",
        "    # Plot the corresponding dendrogram\n",
        "    dendrogram(linkage_matrix, **kwargs)\n",
        "\n",
        "# Plot the dendrogram\n",
        "plt.figure(figsize=(10, 5))\n",
        "plt.title('Hierarchical Clustering Dendrogram')\n",
        "plot_dendrogram(model, truncate_mode='level', p=3)\n",
        "plt.xlabel(\"Number of points in node (or index of point if no parenthesis).\")\n",
        "plt.show()"
      ],
      "metadata": {
        "colab": {
          "base_uri": "https://localhost:8080/",
          "height": 491
        },
        "id": "ABQaQ3Bqonhi",
        "outputId": "ae51edaf-ae8d-4a54-f8bd-8ff8ec8b6ea6"
      },
      "execution_count": 42,
      "outputs": [
        {
          "output_type": "display_data",
          "data": {
            "text/plain": [
              "<Figure size 1000x500 with 1 Axes>"
            ],
            "image/png": "[encoded data removed]"
          },
          "metadata": {}
        }
      ]
    },
    {
      "cell_type": "code",
      "source": [
        "# Terminate Spark Session\n",
        "spark.stop()"
      ],
      "metadata": {
        "id": "9ong9VSXqiVd"
      },
      "execution_count": 48,
      "outputs": []
    }
  ]
}